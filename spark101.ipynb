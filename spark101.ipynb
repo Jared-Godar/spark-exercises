{
 "cells": [
  {
   "cell_type": "markdown",
   "metadata": {},
   "source": [
    "\n",
    "## Exercise 1:\n",
    "\n",
    "Within your `codeup-data-science` directory, create a new repo named `spark-exercises`. This will be where you do your work for this module. Create a repository on GitHub with the same name, and link your local repository to GitHub.\n",
    "\n",
    "Save this work in your `spark-exercises` repo. Then add, commit, and push your changes.\n",
    "\n",
    "Create a jupyter notebook or python script named `spark101` for this exercise.\n",
    "\n",
    "Create a spark data frame that contains your favorite programming languages.\n",
    "\n"
   ]
  },
  {
   "cell_type": "code",
   "execution_count": 1,
   "metadata": {},
   "outputs": [],
   "source": [
    "import pyspark\n",
    "from pyspark.sql.functions import col, expr\n",
    "import pandas as pd\n",
    "import numpy as np\n",
    "from pydataset import data\n",
    "np.random.seed(456)"
   ]
  },
  {
   "cell_type": "markdown",
   "metadata": {},
   "source": [
    "- Create a dataframe with one column named `language`\n",
    "> Hint: Start with a pandas dataframe. Maybe use a dictionary?\n"
   ]
  },
  {
   "cell_type": "code",
   "execution_count": 4,
   "metadata": {},
   "outputs": [
    {
     "name": "stderr",
     "output_type": "stream",
     "text": [
      "WARNING: An illegal reflective access operation has occurred\n",
      "WARNING: Illegal reflective access by org.apache.spark.unsafe.Platform (file:/opt/homebrew/anaconda3/lib/python3.8/site-packages/pyspark/jars/spark-unsafe_2.12-3.2.1.jar) to constructor java.nio.DirectByteBuffer(long,int)\n",
      "WARNING: Please consider reporting this to the maintainers of org.apache.spark.unsafe.Platform\n",
      "WARNING: Use --illegal-access=warn to enable warnings of further illegal reflective access operations\n",
      "WARNING: All illegal access operations will be denied in a future release\n",
      "Using Spark's default log4j profile: org/apache/spark/log4j-defaults.properties\n",
      "Setting default log level to \"WARN\".\n",
      "To adjust logging level use sc.setLogLevel(newLevel). For SparkR, use setLogLevel(newLevel).\n",
      "22/02/11 13:43:05 WARN NativeCodeLoader: Unable to load native-hadoop library for your platform... using builtin-java classes where applicable\n",
      "22/02/11 13:43:07 WARN Utils: Service 'SparkUI' could not bind on port 4040. Attempting port 4041.\n",
      "22/02/11 13:43:07 WARN Utils: Service 'SparkUI' could not bind on port 4041. Attempting port 4042.\n"
     ]
    }
   ],
   "source": [
    "spark = pyspark.sql.SparkSession.builder.getOrCreate()"
   ]
  },
  {
   "cell_type": "code",
   "execution_count": 9,
   "metadata": {},
   "outputs": [],
   "source": [
    "data = [['python'], ['julia'], ['SQL'], ['matlab'], ['C'], ['java'], ['sas'], ['cobal'], ['turbopascal'], ['R'], ['scala'], ['auc'], ['C++'], ['swift'], ['ruby'], ['perl'], ['fortran'], ['bash'], ['php'], ['go']]\n",
    "df = pd.DataFrame(data, columns = ['language'])\n",
    "df = spark.createDataFrame(df)"
   ]
  },
  {
   "cell_type": "markdown",
   "metadata": {},
   "source": [
    "- View the schema of the dataframe\n"
   ]
  },
  {
   "cell_type": "code",
   "execution_count": 10,
   "metadata": {},
   "outputs": [
    {
     "name": "stdout",
     "output_type": "stream",
     "text": [
      "root\n",
      " |-- language: string (nullable = true)\n",
      "\n"
     ]
    }
   ],
   "source": [
    "df.printSchema()"
   ]
  },
  {
   "cell_type": "markdown",
   "metadata": {},
   "source": [
    "- Output the shape of the dataframe\n"
   ]
  },
  {
   "cell_type": "code",
   "execution_count": 11,
   "metadata": {},
   "outputs": [
    {
     "name": "stderr",
     "output_type": "stream",
     "text": [
      "[Stage 6:>                                                          (0 + 8) / 8]\r"
     ]
    },
    {
     "name": "stdout",
     "output_type": "stream",
     "text": [
      "DataFrame shape:  20  x  1\n"
     ]
    },
    {
     "name": "stderr",
     "output_type": "stream",
     "text": [
      "                                                                                \r"
     ]
    }
   ],
   "source": [
    "print(\"DataFrame shape: \", df.count(), \" x \", len(df.columns))"
   ]
  },
  {
   "cell_type": "markdown",
   "metadata": {},
   "source": [
    "- Show the first 5 records in the dataframe\n",
    "\n"
   ]
  },
  {
   "cell_type": "code",
   "execution_count": 12,
   "metadata": {},
   "outputs": [
    {
     "name": "stdout",
     "output_type": "stream",
     "text": [
      "+--------+\n",
      "|language|\n",
      "+--------+\n",
      "|  python|\n",
      "|   julia|\n",
      "|     SQL|\n",
      "|  matlab|\n",
      "|       C|\n",
      "+--------+\n",
      "only showing top 5 rows\n",
      "\n"
     ]
    }
   ],
   "source": [
    "df.show(5)"
   ]
  },
  {
   "cell_type": "markdown",
   "metadata": {},
   "source": [
    "## Exercise 2:\n",
    "\n",
    "Load the `mpg` dataset as a spark dataframe.\n",
    "\n"
   ]
  },
  {
   "cell_type": "code",
   "execution_count": 13,
   "metadata": {},
   "outputs": [
    {
     "name": "stdout",
     "output_type": "stream",
     "text": [
      "+------------+-----+-----+----+---+----------+---+---+---+---+-------+\n",
      "|manufacturer|model|displ|year|cyl|     trans|drv|cty|hwy| fl|  class|\n",
      "+------------+-----+-----+----+---+----------+---+---+---+---+-------+\n",
      "|        audi|   a4|  1.8|1999|  4|  auto(l5)|  f| 18| 29|  p|compact|\n",
      "|        audi|   a4|  1.8|1999|  4|manual(m5)|  f| 21| 29|  p|compact|\n",
      "|        audi|   a4|  2.0|2008|  4|manual(m6)|  f| 20| 31|  p|compact|\n",
      "|        audi|   a4|  2.0|2008|  4|  auto(av)|  f| 21| 30|  p|compact|\n",
      "|        audi|   a4|  2.8|1999|  6|  auto(l5)|  f| 16| 26|  p|compact|\n",
      "+------------+-----+-----+----+---+----------+---+---+---+---+-------+\n",
      "only showing top 5 rows\n",
      "\n"
     ]
    }
   ],
   "source": [
    "from pydataset import data\n",
    "\n",
    "mpg = spark.createDataFrame(data(\"mpg\"))\n",
    "mpg.show(5)"
   ]
  },
  {
   "cell_type": "markdown",
   "metadata": {},
   "source": [
    "a. Create 1 column of output that contains a message like the one below for each record:\n",
    "\n",
    "    The 1999 audi a4 has a 4 cylinder engine.\n",
    "\n",
    "> Hint: You will need to concatenate values that already exist in the data with string literals\n",
    "\n"
   ]
  },
  {
   "cell_type": "code",
   "execution_count": 14,
   "metadata": {},
   "outputs": [],
   "source": [
    "from pyspark.sql.functions import concat, sum, avg, min, max, count, mean"
   ]
  },
  {
   "cell_type": "code",
   "execution_count": 15,
   "metadata": {},
   "outputs": [
    {
     "name": "stdout",
     "output_type": "stream",
     "text": [
      "+------------+-----+-----+----+---+----------+---+---+---+---+-------+\n",
      "|manufacturer|model|displ|year|cyl|     trans|drv|cty|hwy| fl|  class|\n",
      "+------------+-----+-----+----+---+----------+---+---+---+---+-------+\n",
      "|        audi|   a4|  1.8|1999|  4|  auto(l5)|  f| 18| 29|  p|compact|\n",
      "|        audi|   a4|  1.8|1999|  4|manual(m5)|  f| 21| 29|  p|compact|\n",
      "|        audi|   a4|  2.0|2008|  4|manual(m6)|  f| 20| 31|  p|compact|\n",
      "|        audi|   a4|  2.0|2008|  4|  auto(av)|  f| 21| 30|  p|compact|\n",
      "|        audi|   a4|  2.8|1999|  6|  auto(l5)|  f| 16| 26|  p|compact|\n",
      "+------------+-----+-----+----+---+----------+---+---+---+---+-------+\n",
      "only showing top 5 rows\n",
      "\n"
     ]
    }
   ],
   "source": [
    "mpg.show(5)"
   ]
  },
  {
   "cell_type": "code",
   "execution_count": 17,
   "metadata": {},
   "outputs": [],
   "source": [
    "from pyspark.sql.functions import lit"
   ]
  },
  {
   "cell_type": "code",
   "execution_count": 48,
   "metadata": {},
   "outputs": [
    {
     "name": "stdout",
     "output_type": "stream",
     "text": [
      "+------------------------------------------------------------------------------+\n",
      "|concat(The , year,  , manufacturer,  , model,  has a , cyl,  cylinder engine.)|\n",
      "+------------------------------------------------------------------------------+\n",
      "|The 1999 audi a4 has a 4 cylinder engine.                                     |\n",
      "|The 1999 audi a4 has a 4 cylinder engine.                                     |\n",
      "|The 2008 audi a4 has a 4 cylinder engine.                                     |\n",
      "|The 2008 audi a4 has a 4 cylinder engine.                                     |\n",
      "|The 1999 audi a4 has a 6 cylinder engine.                                     |\n",
      "|The 1999 audi a4 has a 6 cylinder engine.                                     |\n",
      "|The 2008 audi a4 has a 6 cylinder engine.                                     |\n",
      "|The 1999 audi a4 quattro has a 4 cylinder engine.                             |\n",
      "|The 1999 audi a4 quattro has a 4 cylinder engine.                             |\n",
      "|The 2008 audi a4 quattro has a 4 cylinder engine.                             |\n",
      "|The 2008 audi a4 quattro has a 4 cylinder engine.                             |\n",
      "|The 1999 audi a4 quattro has a 6 cylinder engine.                             |\n",
      "|The 1999 audi a4 quattro has a 6 cylinder engine.                             |\n",
      "|The 2008 audi a4 quattro has a 6 cylinder engine.                             |\n",
      "|The 2008 audi a4 quattro has a 6 cylinder engine.                             |\n",
      "|The 1999 audi a6 quattro has a 6 cylinder engine.                             |\n",
      "|The 2008 audi a6 quattro has a 6 cylinder engine.                             |\n",
      "|The 2008 audi a6 quattro has a 8 cylinder engine.                             |\n",
      "|The 2008 chevrolet c1500 suburban 2wd has a 8 cylinder engine.                |\n",
      "|The 2008 chevrolet c1500 suburban 2wd has a 8 cylinder engine.                |\n",
      "+------------------------------------------------------------------------------+\n",
      "only showing top 20 rows\n",
      "\n"
     ]
    }
   ],
   "source": [
    "mpg.select(\n",
    "    concat(\n",
    "        lit('The '), \n",
    "        mpg.year, \n",
    "        lit(' '), \n",
    "        mpg.manufacturer, \n",
    "        lit(' '), \n",
    "        mpg.model, \n",
    "        lit(' has a '), \n",
    "        mpg.cyl, \n",
    "        lit(' cylinder engine.'))).show(truncate=False)"
   ]
  },
  {
   "cell_type": "markdown",
   "metadata": {},
   "source": [
    "b. Transform the trans column so that it only contains either manual or auto.\n",
    "\n",
    "> Hint: Consider spark string methods and `when().otherwise()` chaining"
   ]
  },
  {
   "cell_type": "code",
   "execution_count": 30,
   "metadata": {},
   "outputs": [],
   "source": [
    "mpg.createOrReplaceTempView(\"mpg\")"
   ]
  },
  {
   "cell_type": "code",
   "execution_count": 40,
   "metadata": {},
   "outputs": [
    {
     "name": "stdout",
     "output_type": "stream",
     "text": [
      "+----------+\n",
      "|     trans|\n",
      "+----------+\n",
      "|  auto(l5)|\n",
      "|manual(m5)|\n",
      "|manual(m6)|\n",
      "|  auto(av)|\n",
      "|  auto(l5)|\n",
      "|manual(m5)|\n",
      "|  auto(av)|\n",
      "|manual(m5)|\n",
      "|  auto(l5)|\n",
      "|manual(m6)|\n",
      "|  auto(s6)|\n",
      "|  auto(l5)|\n",
      "|manual(m5)|\n",
      "|  auto(s6)|\n",
      "|manual(m6)|\n",
      "|  auto(l5)|\n",
      "|  auto(s6)|\n",
      "|  auto(s6)|\n",
      "|  auto(l4)|\n",
      "|  auto(l4)|\n",
      "|  auto(l4)|\n",
      "|  auto(l4)|\n",
      "|  auto(l4)|\n",
      "|manual(m6)|\n",
      "|  auto(l4)|\n",
      "|manual(m6)|\n",
      "|  auto(s6)|\n",
      "|manual(m6)|\n",
      "|  auto(l4)|\n",
      "|  auto(l4)|\n",
      "|  auto(l4)|\n",
      "|  auto(l4)|\n",
      "|  auto(l4)|\n",
      "|  auto(l4)|\n",
      "|  auto(l4)|\n",
      "|  auto(l4)|\n",
      "|  auto(s6)|\n",
      "|  auto(l3)|\n",
      "|  auto(l4)|\n",
      "|  auto(l4)|\n",
      "|  auto(l4)|\n",
      "|  auto(l4)|\n",
      "|  auto(l4)|\n",
      "|  auto(l4)|\n",
      "|  auto(l4)|\n",
      "|  auto(l4)|\n",
      "|  auto(l6)|\n",
      "|  auto(l6)|\n",
      "|manual(m6)|\n",
      "|  auto(l4)|\n",
      "|  auto(l4)|\n",
      "|manual(m5)|\n",
      "|  auto(l5)|\n",
      "|  auto(l5)|\n",
      "|  auto(l5)|\n",
      "|manual(m5)|\n",
      "|  auto(l4)|\n",
      "|  auto(l4)|\n",
      "|  auto(l5)|\n",
      "|  auto(l5)|\n",
      "|  auto(l5)|\n",
      "|  auto(l4)|\n",
      "|  auto(l5)|\n",
      "|  auto(l4)|\n",
      "|manual(m6)|\n",
      "|  auto(l5)|\n",
      "|  auto(l5)|\n",
      "|  auto(l5)|\n",
      "|manual(m6)|\n",
      "|manual(m6)|\n",
      "|  auto(l4)|\n",
      "|manual(m5)|\n",
      "|  auto(l5)|\n",
      "|  auto(l4)|\n",
      "|  auto(l4)|\n",
      "|  auto(l4)|\n",
      "|  auto(l6)|\n",
      "|  auto(l5)|\n",
      "|manual(m5)|\n",
      "|  auto(l5)|\n",
      "|  auto(l5)|\n",
      "|  auto(l6)|\n",
      "|  auto(l4)|\n",
      "|  auto(l4)|\n",
      "|manual(m5)|\n",
      "|manual(m5)|\n",
      "|  auto(l4)|\n",
      "|  auto(l4)|\n",
      "|  auto(l4)|\n",
      "|  auto(l4)|\n",
      "|manual(m5)|\n",
      "|  auto(l4)|\n",
      "|manual(m5)|\n",
      "|  auto(l5)|\n",
      "|  auto(l4)|\n",
      "|manual(m5)|\n",
      "|manual(m5)|\n",
      "|  auto(l5)|\n",
      "|manual(m6)|\n",
      "|manual(m5)|\n",
      "+----------+\n",
      "only showing top 100 rows\n",
      "\n"
     ]
    }
   ],
   "source": [
    "spark.sql(\n",
    "    '''\n",
    "    SELECT trans\n",
    "    FROM mpg\n",
    "    WHERE trans LIKE 'manual%' OR trans LIKE 'auto%'\n",
    "    '''\n",
    ").show(100)"
   ]
  },
  {
   "cell_type": "code",
   "execution_count": 45,
   "metadata": {},
   "outputs": [
    {
     "name": "stdout",
     "output_type": "stream",
     "text": [
      "+--------------+\n",
      "|left(trans, 6)|\n",
      "+--------------+\n",
      "|        manual|\n",
      "|        manual|\n",
      "|        manual|\n",
      "|        manual|\n",
      "|        manual|\n",
      "|        manual|\n",
      "|        manual|\n",
      "|        manual|\n",
      "|        manual|\n",
      "|        manual|\n",
      "+--------------+\n",
      "only showing top 10 rows\n",
      "\n"
     ]
    }
   ],
   "source": [
    "spark.sql(\n",
    "    '''\n",
    "    SELECT left(trans,6)\n",
    "    FROM mpg\n",
    "    WHERE trans LIKE 'manual%'\n",
    "    \n",
    "    '''\n",
    ").show(10)"
   ]
  },
  {
   "cell_type": "code",
   "execution_count": 47,
   "metadata": {},
   "outputs": [
    {
     "name": "stdout",
     "output_type": "stream",
     "text": [
      "+--------------+\n",
      "|left(trans, 4)|\n",
      "+--------------+\n",
      "|          auto|\n",
      "|          auto|\n",
      "|          auto|\n",
      "|          auto|\n",
      "|          auto|\n",
      "|          auto|\n",
      "|          auto|\n",
      "|          auto|\n",
      "|          auto|\n",
      "|          auto|\n",
      "+--------------+\n",
      "only showing top 10 rows\n",
      "\n"
     ]
    }
   ],
   "source": [
    "spark.sql(\n",
    "    '''\n",
    "    SELECT left(trans,4)\n",
    "    FROM mpg\n",
    "    WHERE trans LIKE 'auto%'\n",
    "    '''\n",
    ").show(10)\n"
   ]
  },
  {
   "cell_type": "code",
   "execution_count": 50,
   "metadata": {},
   "outputs": [],
   "source": [
    "from pyspark.sql.functions import when"
   ]
  },
  {
   "cell_type": "code",
   "execution_count": 55,
   "metadata": {},
   "outputs": [
    {
     "name": "stdout",
     "output_type": "stream",
     "text": [
      "+----------+-----------+\n",
      "|     trans|when method|\n",
      "+----------+-----------+\n",
      "|  auto(l5)|       auto|\n",
      "|manual(m5)|     manual|\n",
      "|manual(m6)|     manual|\n",
      "|  auto(av)|       auto|\n",
      "|  auto(l5)|       auto|\n",
      "|manual(m5)|     manual|\n",
      "|  auto(av)|       auto|\n",
      "|manual(m5)|     manual|\n",
      "|  auto(l5)|       auto|\n",
      "|manual(m6)|     manual|\n",
      "|  auto(s6)|       auto|\n",
      "|  auto(l5)|       auto|\n",
      "|manual(m5)|     manual|\n",
      "|  auto(s6)|       auto|\n",
      "|manual(m6)|     manual|\n",
      "|  auto(l5)|       auto|\n",
      "|  auto(s6)|       auto|\n",
      "|  auto(s6)|       auto|\n",
      "|  auto(l4)|       auto|\n",
      "|  auto(l4)|       auto|\n",
      "+----------+-----------+\n",
      "only showing top 20 rows\n",
      "\n"
     ]
    }
   ],
   "source": [
    "mpg.select(\n",
    "    'trans',\n",
    "    when(\n",
    "        mpg.trans.like('a%'), 'auto'\n",
    "    ).otherwise('manual').alias('when method')\n",
    ").show()"
   ]
  },
  {
   "cell_type": "markdown",
   "metadata": {},
   "source": [
    "## Exercise 3: \n",
    "\n",
    "Load the `tips` dataset as a spark dataframe.\n",
    "\n"
   ]
  },
  {
   "cell_type": "code",
   "execution_count": 57,
   "metadata": {},
   "outputs": [],
   "source": [
    "import pydataset"
   ]
  },
  {
   "cell_type": "code",
   "execution_count": 58,
   "metadata": {},
   "outputs": [
    {
     "name": "stdout",
     "output_type": "stream",
     "text": [
      "+----------+----+------+------+---+------+----+\n",
      "|total_bill| tip|   sex|smoker|day|  time|size|\n",
      "+----------+----+------+------+---+------+----+\n",
      "|     16.99|1.01|Female|    No|Sun|Dinner|   2|\n",
      "|     10.34|1.66|  Male|    No|Sun|Dinner|   3|\n",
      "|     21.01| 3.5|  Male|    No|Sun|Dinner|   3|\n",
      "|     23.68|3.31|  Male|    No|Sun|Dinner|   2|\n",
      "|     24.59|3.61|Female|    No|Sun|Dinner|   4|\n",
      "|     25.29|4.71|  Male|    No|Sun|Dinner|   4|\n",
      "|      8.77| 2.0|  Male|    No|Sun|Dinner|   2|\n",
      "|     26.88|3.12|  Male|    No|Sun|Dinner|   4|\n",
      "|     15.04|1.96|  Male|    No|Sun|Dinner|   2|\n",
      "|     14.78|3.23|  Male|    No|Sun|Dinner|   2|\n",
      "|     10.27|1.71|  Male|    No|Sun|Dinner|   2|\n",
      "|     35.26| 5.0|Female|    No|Sun|Dinner|   4|\n",
      "|     15.42|1.57|  Male|    No|Sun|Dinner|   2|\n",
      "|     18.43| 3.0|  Male|    No|Sun|Dinner|   4|\n",
      "|     14.83|3.02|Female|    No|Sun|Dinner|   2|\n",
      "|     21.58|3.92|  Male|    No|Sun|Dinner|   2|\n",
      "|     10.33|1.67|Female|    No|Sun|Dinner|   3|\n",
      "|     16.29|3.71|  Male|    No|Sun|Dinner|   3|\n",
      "|     16.97| 3.5|Female|    No|Sun|Dinner|   3|\n",
      "|     20.65|3.35|  Male|    No|Sat|Dinner|   3|\n",
      "+----------+----+------+------+---+------+----+\n",
      "only showing top 20 rows\n",
      "\n"
     ]
    }
   ],
   "source": [
    "tips = spark.createDataFrame(pydataset.data(\"tips\"))\n",
    "tips.show()"
   ]
  },
  {
   "cell_type": "markdown",
   "metadata": {},
   "source": [
    "a. What percentage of observations are smokers?\n",
    "> Hint: `.groupBy()` and `.withColumn()` are useful functions here\n",
    "\n"
   ]
  },
  {
   "cell_type": "code",
   "execution_count": 82,
   "metadata": {},
   "outputs": [
    {
     "name": "stderr",
     "output_type": "stream",
     "text": [
      "[Stage 104:>                                                        (0 + 8) / 8]\r"
     ]
    },
    {
     "name": "stdout",
     "output_type": "stream",
     "text": [
      "+------+-----+-------+\n",
      "|smoker|count|percent|\n",
      "+------+-----+-------+\n",
      "|  null|  244|  100.0|\n",
      "|    No|  151|  61.89|\n",
      "|   Yes|   93|  38.11|\n",
      "+------+-----+-------+\n",
      "\n"
     ]
    },
    {
     "name": "stderr",
     "output_type": "stream",
     "text": [
      "                                                                                \r"
     ]
    }
   ],
   "source": [
    "tips.rollup('smoker').count().withColumn('percent', round(col('count')/244*100, 2)).show()"
   ]
  },
  {
   "cell_type": "markdown",
   "metadata": {},
   "source": [
    "b. Create a column that contains the tip percentage\n",
    "> Hint: `.withColumn()` is useful here\n",
    "\n"
   ]
  },
  {
   "cell_type": "code",
   "execution_count": 66,
   "metadata": {},
   "outputs": [
    {
     "name": "stdout",
     "output_type": "stream",
     "text": [
      "+----------+----+------------------+\n",
      "|total_bill| tip|       tip_percent|\n",
      "+----------+----+------------------+\n",
      "|     16.99|1.01|5.9446733372572105|\n",
      "|     10.34|1.66|16.054158607350097|\n",
      "|     21.01| 3.5|16.658733936220845|\n",
      "|     23.68|3.31| 13.97804054054054|\n",
      "|     24.59|3.61|14.680764538430255|\n",
      "|     25.29|4.71| 18.62396204033215|\n",
      "|      8.77| 2.0| 22.80501710376283|\n",
      "|     26.88|3.12|11.607142857142858|\n",
      "|     15.04|1.96|13.031914893617023|\n",
      "|     14.78|3.23|21.853856562922868|\n",
      "|     10.27|1.71| 16.65043816942551|\n",
      "|     35.26| 5.0|14.180374361883155|\n",
      "|     15.42|1.57|10.181582360570687|\n",
      "|     18.43| 3.0|16.277807921866522|\n",
      "|     14.83|3.02|20.364126770060686|\n",
      "|     21.58|3.92|18.164967562557923|\n",
      "|     10.33|1.67| 16.16650532429816|\n",
      "|     16.29|3.71|22.774708410067525|\n",
      "|     16.97| 3.5|20.624631703005306|\n",
      "|     20.65|3.35|16.222760290556902|\n",
      "+----------+----+------------------+\n",
      "only showing top 20 rows\n",
      "\n"
     ]
    }
   ],
   "source": [
    "tips.select(tips.total_bill, tips.tip).withColumn('tip_percent', col('tip') / col('total_bill') * 100).show()"
   ]
  },
  {
   "cell_type": "markdown",
   "metadata": {},
   "source": [
    "c. Calculate the average tip percentage for each combination of sex and smoker.\n",
    "> Hint: Chain additional functions off the answer to part b "
   ]
  },
  {
   "cell_type": "code",
   "execution_count": 70,
   "metadata": {},
   "outputs": [
    {
     "name": "stderr",
     "output_type": "stream",
     "text": [
      "[Stage 86:>                                                         (0 + 8) / 8]\r"
     ]
    },
    {
     "name": "stdout",
     "output_type": "stream",
     "text": [
      "+------+-----------------+------------------+\n",
      "|   sex|               No|               Yes|\n",
      "+------+-----------------+------------------+\n",
      "|Female|15.69209707691836| 18.21503526994103|\n",
      "|  Male|16.06687151291298|15.277117520248513|\n",
      "+------+-----------------+------------------+\n",
      "\n"
     ]
    },
    {
     "name": "stderr",
     "output_type": "stream",
     "text": [
      "                                                                                \r"
     ]
    }
   ],
   "source": [
    "tips.select(tips.total_bill, tips.tip, tips.smoker, tips.sex).withColumn('tip_percent', col('tip') / col('total_bill')*100).groupby('sex').pivot('smoker').mean('tip_percent').show()"
   ]
  },
  {
   "cell_type": "code",
   "execution_count": 85,
   "metadata": {},
   "outputs": [
    {
     "name": "stderr",
     "output_type": "stream",
     "text": [
      "[Stage 125:>                                                        (0 + 8) / 8]\r"
     ]
    },
    {
     "name": "stdout",
     "output_type": "stream",
     "text": [
      "+------+-----------------+------------------+\n",
      "|   sex|               No|               Yes|\n",
      "+------+-----------------+------------------+\n",
      "|Female|15.69209707691836| 18.21503526994103|\n",
      "|  Male|16.06687151291298|15.277117520248513|\n",
      "+------+-----------------+------------------+\n",
      "\n"
     ]
    },
    {
     "name": "stderr",
     "output_type": "stream",
     "text": [
      "                                                                                \r"
     ]
    }
   ],
   "source": [
    "tips.select(tips.total_bill, tips.tip, tips.smoker, tips.sex).withColumn('tip_percent', col('tip') / col('total_bill')*100).groupby('sex').pivot('smoker').mean('tip_percent').show()"
   ]
  },
  {
   "cell_type": "markdown",
   "metadata": {},
   "source": [
    "## Exercise 4:\n",
    "\n",
    "Use the seattle weather dataset referenced in the lesson to answer the questions below.\n",
    "\n"
   ]
  },
  {
   "cell_type": "code",
   "execution_count": null,
   "metadata": {},
   "outputs": [],
   "source": []
  },
  {
   "cell_type": "markdown",
   "metadata": {},
   "source": [
    "- Convert the temperatures to fahrenheit.\n"
   ]
  },
  {
   "cell_type": "code",
   "execution_count": null,
   "metadata": {},
   "outputs": [],
   "source": []
  },
  {
   "cell_type": "markdown",
   "metadata": {},
   "source": [
    "- Which month has the most rain, on average?\n"
   ]
  },
  {
   "cell_type": "code",
   "execution_count": null,
   "metadata": {},
   "outputs": [],
   "source": []
  },
  {
   "cell_type": "markdown",
   "metadata": {},
   "source": [
    "- Which year was the windiest?\n"
   ]
  },
  {
   "cell_type": "code",
   "execution_count": null,
   "metadata": {},
   "outputs": [],
   "source": []
  },
  {
   "cell_type": "markdown",
   "metadata": {},
   "source": [
    "- What is the most frequent type of weather in January?\n"
   ]
  },
  {
   "cell_type": "code",
   "execution_count": null,
   "metadata": {},
   "outputs": [],
   "source": []
  },
  {
   "cell_type": "markdown",
   "metadata": {},
   "source": [
    "- What is the average high and low temperature on sunny days in July in 2013 and 2014?\n"
   ]
  },
  {
   "cell_type": "code",
   "execution_count": null,
   "metadata": {},
   "outputs": [],
   "source": []
  },
  {
   "cell_type": "markdown",
   "metadata": {},
   "source": [
    "- What percentage of days were rainy in q3 of 2015?\n"
   ]
  },
  {
   "cell_type": "code",
   "execution_count": null,
   "metadata": {},
   "outputs": [],
   "source": []
  },
  {
   "cell_type": "markdown",
   "metadata": {},
   "source": [
    "- For each year, find what percentage of days it rained (had non-zero precipitation)."
   ]
  },
  {
   "cell_type": "code",
   "execution_count": null,
   "metadata": {},
   "outputs": [],
   "source": []
  }
 ],
 "metadata": {
  "interpreter": {
   "hash": "38cca0c38332a56087b24af0bc80247f4fced29cb4f7f437d91dc159adec9c4e"
  },
  "kernelspec": {
   "display_name": "Python 3.8.12 ('base')",
   "language": "python",
   "name": "python3"
  },
  "language_info": {
   "codemirror_mode": {
    "name": "ipython",
    "version": 3
   },
   "file_extension": ".py",
   "mimetype": "text/x-python",
   "name": "python",
   "nbconvert_exporter": "python",
   "pygments_lexer": "ipython3",
   "version": "3.8.12"
  },
  "orig_nbformat": 4
 },
 "nbformat": 4,
 "nbformat_minor": 2
}
